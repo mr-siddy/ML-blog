{
 "cells": [
  {
   "cell_type": "markdown",
   "id": "749bd4b6",
   "metadata": {},
   "source": [
    "# Implementation of Linear Regression and Gradient Descent using Pytorch"
   ]
  },
  {
   "cell_type": "markdown",
   "id": "dc468401",
   "metadata": {},
   "source": [
    "\n",
    "\n",
    "*Linear regression*. model that predicts crop yields for apples and oranges (*target variables*) by looking at the average temperature, rainfall, and humidity (*input variables or features*) in a region. Here's the training data:\n",
    "\n",
    "![linear-regression-training-data](https://i.imgur.com/6Ujttb4.png)\n",
    "\n",
    "In a linear regression model, each target variable is estimated to be a weighted sum of the input variables, offset by some constant, known as a bias :\n",
    "\n",
    "```\n",
    "yield_apple  = w11 * temp + w12 * rainfall + w13 * humidity + b1\n",
    "yield_orange = w21 * temp + w22 * rainfall + w23 * humidity + b2\n",
    "```\n",
    "\n",
    "Visually, it means that the yield of apples is a linear or planar function of temperature, rainfall and humidity:\n",
    "\n",
    "![linear-regression-graph](https://i.imgur.com/4DJ9f8X.png)"
   ]
  },
  {
   "cell_type": "code",
   "execution_count": 1,
   "id": "d1bd8ab7",
   "metadata": {},
   "outputs": [],
   "source": [
    "import torch\n",
    "import numpy as np "
   ]
  },
  {
   "cell_type": "markdown",
   "id": "c0d34e1a",
   "metadata": {},
   "source": [
    "## Training Data"
   ]
  },
  {
   "cell_type": "code",
   "execution_count": 2,
   "id": "e2f2e010",
   "metadata": {},
   "outputs": [],
   "source": [
    "# Input (temp, rainfall, humidity)\n",
    "\n",
    "inputs = np.array([[73, 67, 43],\n",
    "                   [91, 88, 64],\n",
    "                   [87, 134, 58],\n",
    "                   [102, 43, 37],\n",
    "                   [69, 96, 70]], dtype='float32')"
   ]
  },
  {
   "cell_type": "code",
   "execution_count": 3,
   "id": "f48201d1",
   "metadata": {},
   "outputs": [],
   "source": [
    "targets = np.array([[56,70],\n",
    "                    [81, 101],\n",
    "                    [119, 133],\n",
    "                    [22, 37],\n",
    "                    [103, 119]], dtype='float32')"
   ]
  },
  {
   "cell_type": "code",
   "execution_count": 4,
   "id": "dc372071",
   "metadata": {},
   "outputs": [
    {
     "name": "stdout",
     "output_type": "stream",
     "text": [
      "tensor([[ 73.,  67.,  43.],\n",
      "        [ 91.,  88.,  64.],\n",
      "        [ 87., 134.,  58.],\n",
      "        [102.,  43.,  37.],\n",
      "        [ 69.,  96.,  70.]])\n",
      "tensor([[ 56.,  70.],\n",
      "        [ 81., 101.],\n",
      "        [119., 133.],\n",
      "        [ 22.,  37.],\n",
      "        [103., 119.]])\n"
     ]
    }
   ],
   "source": [
    "# convert inputs and targets to tensors\n",
    "\n",
    "inputs = torch.from_numpy(inputs)\n",
    "targets = torch.from_numpy(targets)\n",
    "print(inputs)\n",
    "print(targets)"
   ]
  },
  {
   "cell_type": "markdown",
   "id": "4f0d079d",
   "metadata": {},
   "source": [
    "## Linear Regression Model from Scratch"
   ]
  },
  {
   "cell_type": "code",
   "execution_count": 5,
   "id": "04ced71b",
   "metadata": {},
   "outputs": [
    {
     "name": "stdout",
     "output_type": "stream",
     "text": [
      "tensor([[ 0.0728, -2.0486,  0.2053],\n",
      "        [ 1.4556, -1.4721, -1.4280]], requires_grad=True)\n",
      "tensor([-2.6483, -2.7893], requires_grad=True)\n"
     ]
    }
   ],
   "source": [
    "# initialise weight and bias matrix with random values\n",
    "\n",
    "w = torch.randn(2, 3, requires_grad=True) # torch.randn : creates a tensor with givent shape with random elements picked with normal distribution\n",
    "b = torch.randn(2, requires_grad= True)\n",
    "print(w)\n",
    "print(b)"
   ]
  },
  {
   "cell_type": "markdown",
   "id": "584d15ae",
   "metadata": {},
   "source": [
    "Our model is just X * W_transpose + Bias"
   ]
  },
  {
   "cell_type": "code",
   "execution_count": 6,
   "id": "1ae42f49",
   "metadata": {},
   "outputs": [],
   "source": [
    "def model(x):\n",
    "    return x @ w.t() + b # @-> matrix multiplication in pytorch, .t() returns the transpose of a tensor"
   ]
  },
  {
   "cell_type": "code",
   "execution_count": 7,
   "id": "4dcb5ea2",
   "metadata": {},
   "outputs": [
    {
     "data": {
      "text/plain": [
       "tensor([[-125.7638,  -56.5679],\n",
       "        [-163.1629,  -91.2699],\n",
       "        [-258.9209, -156.2401],\n",
       "        [ -75.7193,   29.5415],\n",
       "        [-179.9207, -143.6369]], grad_fn=<AddBackward0>)"
      ]
     },
     "execution_count": 7,
     "metadata": {},
     "output_type": "execute_result"
    }
   ],
   "source": [
    "# example prediction\n",
    "\n",
    "inputs @ w.t() + b"
   ]
  },
  {
   "cell_type": "code",
   "execution_count": 8,
   "id": "7b367e64",
   "metadata": {},
   "outputs": [
    {
     "data": {
      "text/plain": [
       "tensor([[-125.7638,  -56.5679],\n",
       "        [-163.1629,  -91.2699],\n",
       "        [-258.9209, -156.2401],\n",
       "        [ -75.7193,   29.5415],\n",
       "        [-179.9207, -143.6369]], grad_fn=<AddBackward0>)"
      ]
     },
     "execution_count": 8,
     "metadata": {},
     "output_type": "execute_result"
    }
   ],
   "source": [
    "preds = model(inputs)\n",
    "preds"
   ]
  },
  {
   "cell_type": "code",
   "execution_count": 9,
   "id": "2cc316a8",
   "metadata": {},
   "outputs": [
    {
     "name": "stdout",
     "output_type": "stream",
     "text": [
      "tensor([[ 56.,  70.],\n",
      "        [ 81., 101.],\n",
      "        [119., 133.],\n",
      "        [ 22.,  37.],\n",
      "        [103., 119.]])\n"
     ]
    }
   ],
   "source": [
    "# compare predicitons with actual targets\n",
    "\n",
    "print(targets)"
   ]
  },
  {
   "cell_type": "code",
   "execution_count": 10,
   "id": "919bc6b1",
   "metadata": {},
   "outputs": [
    {
     "data": {
      "text/plain": [
       "tensor(53075.1758, grad_fn=<DivBackward0>)"
      ]
     },
     "execution_count": 10,
     "metadata": {},
     "output_type": "execute_result"
    }
   ],
   "source": [
    "diff = preds - targets\n",
    "# diff * diff                 #  * means element wise multiplication not matrix multiplication\n",
    "torch.sum(diff*diff) / diff.numel()  # numel -> number of element in diff matrix"
   ]
  },
  {
   "cell_type": "markdown",
   "id": "96c55181",
   "metadata": {},
   "source": [
    "## Loss function\n",
    "\n",
    "MSE Loss :- On average, each element in prediction differs from the actual target by the square root of the loss"
   ]
  },
  {
   "cell_type": "code",
   "execution_count": 11,
   "id": "36e9934d",
   "metadata": {},
   "outputs": [],
   "source": [
    "def mse(t1,t2):\n",
    "    diff = t1 - t2\n",
    "    return torch.sum(diff * diff) / diff.numel()\n",
    "    "
   ]
  },
  {
   "cell_type": "code",
   "execution_count": 12,
   "id": "e48b5c78",
   "metadata": {},
   "outputs": [
    {
     "name": "stdout",
     "output_type": "stream",
     "text": [
      "tensor(53075.1758, grad_fn=<DivBackward0>)\n"
     ]
    }
   ],
   "source": [
    "# compute loss\n",
    "\n",
    "loss = mse(preds, targets)\n",
    "print(loss)"
   ]
  },
  {
   "cell_type": "code",
   "execution_count": 13,
   "id": "4c48b9f7",
   "metadata": {},
   "outputs": [],
   "source": [
    "# Computing Gradients :- from loss functions coz loss is function of weights and baises\n",
    "\n",
    "loss.backward()"
   ]
  },
  {
   "cell_type": "code",
   "execution_count": 14,
   "id": "86843d9a",
   "metadata": {},
   "outputs": [
    {
     "name": "stdout",
     "output_type": "stream",
     "text": [
      "tensor([[ 0.0728, -2.0486,  0.2053],\n",
      "        [ 1.4556, -1.4721, -1.4280]], requires_grad=True)\n",
      "tensor([[-19571.1211, -23133.6465, -13756.3496],\n",
      "        [-14156.5244, -17938.3672, -10636.8340]])\n"
     ]
    }
   ],
   "source": [
    "# Gradients for weights\n",
    "\n",
    "print(w)\n",
    "print(w.grad) # derivative of the loss w.r.t element in w"
   ]
  },
  {
   "cell_type": "code",
   "execution_count": 15,
   "id": "3f5ea891",
   "metadata": {},
   "outputs": [
    {
     "name": "stdout",
     "output_type": "stream",
     "text": [
      "tensor([-2.6483, -2.7893], requires_grad=True)\n",
      "tensor([-236.8975, -175.6347])\n"
     ]
    }
   ],
   "source": [
    "print(b)\n",
    "print(b.grad)"
   ]
  },
  {
   "cell_type": "markdown",
   "id": "3c10bc2c",
   "metadata": {},
   "source": [
    "Grad of loss w.r.t each element in tensor indicates the rate of change of loss or slope of the loss function "
   ]
  },
  {
   "cell_type": "markdown",
   "id": "4956fe45",
   "metadata": {},
   "source": [
    "we can substract from each weight element a small quantity proportional to the derivative of the loss w.r.t that element to reduce the loss slightly"
   ]
  },
  {
   "cell_type": "code",
   "execution_count": 16,
   "id": "ba8015ba",
   "metadata": {},
   "outputs": [
    {
     "name": "stdout",
     "output_type": "stream",
     "text": [
      "tensor([[ 0.0728, -2.0486,  0.2053],\n",
      "        [ 1.4556, -1.4721, -1.4280]], requires_grad=True)\n"
     ]
    },
    {
     "data": {
      "text/plain": [
       "tensor([[-19571.1211, -23133.6465, -13756.3496],\n",
       "        [-14156.5244, -17938.3672, -10636.8340]])"
      ]
     },
     "execution_count": 16,
     "metadata": {},
     "output_type": "execute_result"
    }
   ],
   "source": [
    "print(w)\n",
    "w.grad"
   ]
  },
  {
   "cell_type": "code",
   "execution_count": 17,
   "id": "f8629559",
   "metadata": {},
   "outputs": [
    {
     "name": "stdout",
     "output_type": "stream",
     "text": [
      "tensor([[ 0.0728, -2.0486,  0.2053],\n",
      "        [ 1.4556, -1.4721, -1.4280]], requires_grad=True)\n"
     ]
    },
    {
     "data": {
      "text/plain": [
       "tensor([[-0.1957, -0.2313, -0.1376],\n",
       "        [-0.1416, -0.1794, -0.1064]])"
      ]
     },
     "execution_count": 17,
     "metadata": {},
     "output_type": "execute_result"
    }
   ],
   "source": [
    "print(w)\n",
    "w.grad * 1e-5 # new weights to near w "
   ]
  },
  {
   "cell_type": "code",
   "execution_count": 18,
   "id": "aaf0ec4b",
   "metadata": {},
   "outputs": [],
   "source": [
    "with torch.no_grad():\n",
    "    w -= w.grad * 1e-5  # 1e-5 is the step ie small coz loss is large.....Learning Rate\n",
    "    b -= b.grad * 1e-5"
   ]
  },
  {
   "cell_type": "markdown",
   "id": "e8c2a420",
   "metadata": {},
   "source": [
    "torch.no_grad() to  indicate to Pytorch that we shouldn't take track, calculate, or modify gradients while updating the weights and biases"
   ]
  },
  {
   "cell_type": "code",
   "execution_count": 19,
   "id": "51428cc5",
   "metadata": {},
   "outputs": [
    {
     "data": {
      "text/plain": [
       "(tensor([[ 0.2685, -1.8173,  0.3429],\n",
       "         [ 1.5971, -1.2927, -1.3216]], requires_grad=True),\n",
       " tensor([-2.6459, -2.7876], requires_grad=True))"
      ]
     },
     "execution_count": 19,
     "metadata": {},
     "output_type": "execute_result"
    }
   ],
   "source": [
    "w, b"
   ]
  },
  {
   "cell_type": "code",
   "execution_count": 20,
   "id": "3ff47ab5",
   "metadata": {},
   "outputs": [
    {
     "name": "stdout",
     "output_type": "stream",
     "text": [
      "tensor(37202.4609, grad_fn=<DivBackward0>)\n"
     ]
    }
   ],
   "source": [
    "# lets verify that the loss in actually lower\n",
    "preds = model(inputs)\n",
    "loss = mse(preds, targets)\n",
    "print(loss)"
   ]
  },
  {
   "cell_type": "markdown",
   "id": "4258c8a0",
   "metadata": {},
   "source": [
    "Now reset the gradients to 0"
   ]
  },
  {
   "cell_type": "code",
   "execution_count": 21,
   "id": "1cb0edb1",
   "metadata": {},
   "outputs": [
    {
     "name": "stdout",
     "output_type": "stream",
     "text": [
      "tensor([[0., 0., 0.],\n",
      "        [0., 0., 0.]])\n",
      "tensor([0., 0.])\n"
     ]
    }
   ],
   "source": [
    "w.grad.zero_()\n",
    "b.grad.zero_()\n",
    "print(w.grad)\n",
    "print(b.grad)"
   ]
  },
  {
   "cell_type": "markdown",
   "id": "fdabe3a1",
   "metadata": {},
   "source": [
    "## Train the Model using Gradient descent"
   ]
  },
  {
   "cell_type": "code",
   "execution_count": 22,
   "id": "e32531ee",
   "metadata": {},
   "outputs": [
    {
     "name": "stdout",
     "output_type": "stream",
     "text": [
      "tensor([[ -90.0597,  -29.6393],\n",
      "        [-116.1892,  -55.7924],\n",
      "        [-202.9139, -113.7154],\n",
      "        [ -40.7170,   55.6320],\n",
      "        [-134.5765, -109.2006]], grad_fn=<AddBackward0>)\n"
     ]
    }
   ],
   "source": [
    "# generate predictions\n",
    "preds = model(inputs)\n",
    "print(preds)"
   ]
  },
  {
   "cell_type": "code",
   "execution_count": 23,
   "id": "1282cb8c",
   "metadata": {},
   "outputs": [
    {
     "name": "stdout",
     "output_type": "stream",
     "text": [
      "tensor(37202.4609, grad_fn=<DivBackward0>)\n"
     ]
    }
   ],
   "source": [
    "# calculate loss\n",
    "loss = mse(preds, targets)\n",
    "print(loss)"
   ]
  },
  {
   "cell_type": "code",
   "execution_count": 24,
   "id": "b1338dfa",
   "metadata": {},
   "outputs": [
    {
     "name": "stdout",
     "output_type": "stream",
     "text": [
      "tensor([[-15880.6006, -19155.8594, -11304.5137],\n",
      "        [-11370.2803, -14927.9023,  -8782.6719]])\n",
      "tensor([-193.0913, -142.5432])\n"
     ]
    }
   ],
   "source": [
    "# compute gradients\n",
    "loss.backward()\n",
    "print(w.grad)\n",
    "print(b.grad)"
   ]
  },
  {
   "cell_type": "markdown",
   "id": "3364c1cc",
   "metadata": {},
   "source": [
    "update the weights and biases using gradientdescent"
   ]
  },
  {
   "cell_type": "code",
   "execution_count": 25,
   "id": "a1191720",
   "metadata": {},
   "outputs": [],
   "source": [
    "# Adjust weights and reset gradient\n",
    "\n",
    "with torch.no_grad():\n",
    "    w -= w.grad * 1e-5\n",
    "    b -= b.grad * 1e-5\n",
    "    w.grad.zero_()\n",
    "    b.grad.zero_()"
   ]
  },
  {
   "cell_type": "code",
   "execution_count": 26,
   "id": "a627f6d5",
   "metadata": {},
   "outputs": [
    {
     "name": "stdout",
     "output_type": "stream",
     "text": [
      "tensor([[ 0.4273, -1.6257,  0.4559],\n",
      "        [ 1.7108, -1.1434, -1.2338]], requires_grad=True)\n",
      "tensor([-2.6440, -2.7862], requires_grad=True)\n"
     ]
    }
   ],
   "source": [
    "print(w)\n",
    "print(b)"
   ]
  },
  {
   "cell_type": "code",
   "execution_count": 27,
   "id": "6e4fd088",
   "metadata": {},
   "outputs": [
    {
     "name": "stdout",
     "output_type": "stream",
     "text": [
      "tensor(26488.4434, grad_fn=<DivBackward0>)\n"
     ]
    }
   ],
   "source": [
    "# with these new weights and biases, model should have lower loss\n",
    "\n",
    "preds = model(inputs)\n",
    "loss = mse(preds, targets)\n",
    "print(loss)"
   ]
  },
  {
   "cell_type": "markdown",
   "id": "64399414",
   "metadata": {},
   "source": [
    "Train on multiple Epochs"
   ]
  },
  {
   "cell_type": "code",
   "execution_count": 28,
   "id": "49441ae5",
   "metadata": {},
   "outputs": [],
   "source": [
    "for i in range(100):\n",
    "    preds = model(inputs)\n",
    "    loss  = mse(preds, targets)\n",
    "    loss.backward()\n",
    "    with torch.no_grad():\n",
    "        w -= w.grad * 1e-5\n",
    "        b -= b.grad * 1e-5\n",
    "        w.grad.zero_()\n",
    "        b.grad.zero_()"
   ]
  },
  {
   "cell_type": "code",
   "execution_count": 29,
   "id": "f04fc15e",
   "metadata": {},
   "outputs": [
    {
     "name": "stdout",
     "output_type": "stream",
     "text": [
      "tensor(1333.2324, grad_fn=<DivBackward0>)\n"
     ]
    }
   ],
   "source": [
    "# calculate loss \n",
    "preds = model(inputs)\n",
    "loss = mse(preds, targets)\n",
    "print(loss)"
   ]
  },
  {
   "cell_type": "code",
   "execution_count": 30,
   "id": "dbca898e",
   "metadata": {},
   "outputs": [
    {
     "name": "stdout",
     "output_type": "stream",
     "text": [
      "tensor([[ 65.7250,  83.3404],\n",
      "        [ 92.7282,  99.8337],\n",
      "        [ 80.9948, 113.9022],\n",
      "        [ 73.8770, 114.4924],\n",
      "        [ 88.8938,  71.9206]], grad_fn=<AddBackward0>)\n",
      "tensor([[ 56.,  70.],\n",
      "        [ 81., 101.],\n",
      "        [119., 133.],\n",
      "        [ 22.,  37.],\n",
      "        [103., 119.]])\n"
     ]
    }
   ],
   "source": [
    "print(preds)\n",
    "print(targets)"
   ]
  },
  {
   "cell_type": "markdown",
   "id": "21024365",
   "metadata": {},
   "source": [
    "## Linear Regression using Pytorch built-ins"
   ]
  },
  {
   "cell_type": "code",
   "execution_count": 31,
   "id": "a598e0bf",
   "metadata": {},
   "outputs": [],
   "source": [
    "import torch.nn as nn"
   ]
  },
  {
   "cell_type": "code",
   "execution_count": 32,
   "id": "7cd4a7ee",
   "metadata": {},
   "outputs": [],
   "source": [
    "# Input (temp, rainfall, humidity)\n",
    "\n",
    "inputs = np.array([[73, 67, 43],\n",
    "                   [91, 88, 64],\n",
    "                   [87, 134, 58],\n",
    "                   [102, 43, 37],\n",
    "                   [69, 96, 70],\n",
    "                   [74, 66, 43],\n",
    "                   [91, 87, 65],\n",
    "                   [88, 134, 59],\n",
    "                   [101, 44, 37],\n",
    "                   [68, 96, 71],\n",
    "                   [73, 66, 44],\n",
    "                   [92, 87, 64],\n",
    "                   [87, 135, 57],\n",
    "                   [103, 43 ,36],\n",
    "                   [68, 97, 70]], dtype='float32')\n",
    "\n",
    "\n",
    "targets = np.array([[56,70],\n",
    "                    [81, 101],\n",
    "                    [119, 133],\n",
    "                    [22, 37],\n",
    "                    [103, 119],\n",
    "                    [57,69],\n",
    "                    [80,102],\n",
    "                    [118, 132],\n",
    "                    [21, 38],\n",
    "                    [104, 118],\n",
    "                    [57, 69],\n",
    "                    [82, 100],\n",
    "                    [118, 134],\n",
    "                    [20, 38],\n",
    "                    [102, 120]], dtype='float32')\n",
    "\n",
    "inputs = torch.from_numpy(inputs)\n",
    "targets = torch.from_numpy(targets)"
   ]
  },
  {
   "cell_type": "code",
   "execution_count": 33,
   "id": "500f6bf7",
   "metadata": {},
   "outputs": [
    {
     "name": "stdout",
     "output_type": "stream",
     "text": [
      "tensor([[ 73.,  67.,  43.],\n",
      "        [ 91.,  88.,  64.],\n",
      "        [ 87., 134.,  58.],\n",
      "        [102.,  43.,  37.],\n",
      "        [ 69.,  96.,  70.],\n",
      "        [ 74.,  66.,  43.],\n",
      "        [ 91.,  87.,  65.],\n",
      "        [ 88., 134.,  59.],\n",
      "        [101.,  44.,  37.],\n",
      "        [ 68.,  96.,  71.],\n",
      "        [ 73.,  66.,  44.],\n",
      "        [ 92.,  87.,  64.],\n",
      "        [ 87., 135.,  57.],\n",
      "        [103.,  43.,  36.],\n",
      "        [ 68.,  97.,  70.]])\n",
      "tensor([[ 56.,  70.],\n",
      "        [ 81., 101.],\n",
      "        [119., 133.],\n",
      "        [ 22.,  37.],\n",
      "        [103., 119.],\n",
      "        [ 57.,  69.],\n",
      "        [ 80., 102.],\n",
      "        [118., 132.],\n",
      "        [ 21.,  38.],\n",
      "        [104., 118.],\n",
      "        [ 57.,  69.],\n",
      "        [ 82., 100.],\n",
      "        [118., 134.],\n",
      "        [ 20.,  38.],\n",
      "        [102., 120.]])\n"
     ]
    }
   ],
   "source": [
    "print(inputs)\n",
    "print(targets)"
   ]
  },
  {
   "cell_type": "markdown",
   "id": "6deea6ff",
   "metadata": {},
   "source": [
    "## Dataset and DataLoader"
   ]
  },
  {
   "cell_type": "markdown",
   "id": "4f68f47f",
   "metadata": {},
   "source": [
    "creating a TensorDataset, which allows access to rows from inputs and targets as tuples and provide standard APIs for working many different types pf datasets in Pytorch"
   ]
  },
  {
   "cell_type": "code",
   "execution_count": 34,
   "id": "c1b9a395",
   "metadata": {},
   "outputs": [],
   "source": [
    "from torch.utils.data import TensorDataset"
   ]
  },
  {
   "cell_type": "code",
   "execution_count": 35,
   "id": "8e831650",
   "metadata": {},
   "outputs": [
    {
     "data": {
      "text/plain": [
       "(tensor([[ 73.,  67.,  43.],\n",
       "         [ 91.,  88.,  64.],\n",
       "         [ 87., 134.,  58.]]),\n",
       " tensor([[ 56.,  70.],\n",
       "         [ 81., 101.],\n",
       "         [119., 133.]]))"
      ]
     },
     "execution_count": 35,
     "metadata": {},
     "output_type": "execute_result"
    }
   ],
   "source": [
    "# Define Dataset\n",
    "\n",
    "train_ds = TensorDataset(inputs, targets)\n",
    "train_ds[0:3]                                    # 0 to 3-1"
   ]
  },
  {
   "cell_type": "code",
   "execution_count": 36,
   "id": "36d131f2",
   "metadata": {},
   "outputs": [],
   "source": [
    " from torch.utils.data import DataLoader"
   ]
  },
  {
   "cell_type": "code",
   "execution_count": 37,
   "id": "81e2872a",
   "metadata": {},
   "outputs": [],
   "source": [
    "# Define a data loader -> split our data into batches\n",
    "\n",
    "batch_size = 5\n",
    "train_dl = DataLoader(train_ds, batch_size, shuffle=True)"
   ]
  },
  {
   "cell_type": "code",
   "execution_count": 38,
   "id": "3ae3c2e3",
   "metadata": {},
   "outputs": [
    {
     "data": {
      "text/plain": [
       "tensor([[ 73.,  67.,  43.],\n",
       "        [ 91.,  88.,  64.],\n",
       "        [ 87., 134.,  58.],\n",
       "        [102.,  43.,  37.],\n",
       "        [ 69.,  96.,  70.],\n",
       "        [ 74.,  66.,  43.],\n",
       "        [ 91.,  87.,  65.],\n",
       "        [ 88., 134.,  59.],\n",
       "        [101.,  44.,  37.],\n",
       "        [ 68.,  96.,  71.],\n",
       "        [ 73.,  66.,  44.],\n",
       "        [ 92.,  87.,  64.],\n",
       "        [ 87., 135.,  57.],\n",
       "        [103.,  43.,  36.],\n",
       "        [ 68.,  97.,  70.]])"
      ]
     },
     "execution_count": 38,
     "metadata": {},
     "output_type": "execute_result"
    }
   ],
   "source": [
    "inputs"
   ]
  },
  {
   "cell_type": "code",
   "execution_count": 39,
   "id": "43e3231a",
   "metadata": {},
   "outputs": [
    {
     "name": "stdout",
     "output_type": "stream",
     "text": [
      "tensor([[102.,  43.,  37.],\n",
      "        [ 91.,  87.,  65.],\n",
      "        [ 69.,  96.,  70.],\n",
      "        [ 88., 134.,  59.],\n",
      "        [ 74.,  66.,  43.]])\n",
      "tensor([[ 22.,  37.],\n",
      "        [ 80., 102.],\n",
      "        [103., 119.],\n",
      "        [118., 132.],\n",
      "        [ 57.,  69.]])\n"
     ]
    }
   ],
   "source": [
    "# we can use the data loader in a for loop\n",
    "\n",
    "for xb, yb in train_dl:\n",
    "    print(xb)\n",
    "    print(yb)\n",
    "    break"
   ]
  },
  {
   "cell_type": "markdown",
   "id": "caf03541",
   "metadata": {},
   "source": [
    "# nn.Linear"
   ]
  },
  {
   "cell_type": "markdown",
   "id": "56ebaa68",
   "metadata": {},
   "source": [
    "Instead of initialising the weights and biases manually, we can define the model using the nn.Linear"
   ]
  },
  {
   "cell_type": "code",
   "execution_count": 40,
   "id": "31b34238",
   "metadata": {},
   "outputs": [
    {
     "name": "stdout",
     "output_type": "stream",
     "text": [
      "Parameter containing:\n",
      "tensor([[-0.1637,  0.0519, -0.1459],\n",
      "        [-0.2050,  0.2159, -0.0023]], requires_grad=True)\n",
      "Parameter containing:\n",
      "tensor([-0.1157, -0.1562], requires_grad=True)\n"
     ]
    }
   ],
   "source": [
    "# Define Model\n",
    "\n",
    "model = nn.Linear(3, 2)\n",
    "print(model.weight)\n",
    "print(model.bias)"
   ]
  },
  {
   "cell_type": "code",
   "execution_count": 41,
   "id": "0569dec8",
   "metadata": {},
   "outputs": [
    {
     "data": {
      "text/plain": [
       "[Parameter containing:\n",
       " tensor([[-0.1637,  0.0519, -0.1459],\n",
       "         [-0.2050,  0.2159, -0.0023]], requires_grad=True),\n",
       " Parameter containing:\n",
       " tensor([-0.1157, -0.1562], requires_grad=True)]"
      ]
     },
     "execution_count": 41,
     "metadata": {},
     "output_type": "execute_result"
    }
   ],
   "source": [
    "# parameters :- returns a list containing all the weights and bias matrices present in the model\n",
    "\n",
    "list(model.parameters())"
   ]
  },
  {
   "cell_type": "code",
   "execution_count": 42,
   "id": "0f2c22b6",
   "metadata": {},
   "outputs": [],
   "source": [
    "# Generate predictions\n",
    "preds = model(inputs)"
   ]
  },
  {
   "cell_type": "code",
   "execution_count": 43,
   "id": "0fb4bdc5",
   "metadata": {},
   "outputs": [
    {
     "data": {
      "text/plain": [
       "tensor([[-14.8669,  -0.7540],\n",
       "        [-19.7889,   0.0420],\n",
       "        [-15.8733,  10.8090],\n",
       "        [-19.9838, -11.8685],\n",
       "        [-16.6477,   6.2663],\n",
       "        [-15.0825,  -1.1750],\n",
       "        [-19.9867,  -0.1762],\n",
       "        [-16.1830,  10.6017],\n",
       "        [-19.7683, -11.4475],\n",
       "        [-16.6298,   6.4690],\n",
       "        [-15.0646,  -0.9722],\n",
       "        [-20.0045,  -0.3789],\n",
       "        [-15.6756,  11.0272],\n",
       "        [-20.0016, -12.0712],\n",
       "        [-16.4321,   6.6873]], grad_fn=<AddmmBackward>)"
      ]
     },
     "execution_count": 43,
     "metadata": {},
     "output_type": "execute_result"
    }
   ],
   "source": [
    "preds"
   ]
  },
  {
   "cell_type": "markdown",
   "id": "58574aa2",
   "metadata": {},
   "source": [
    "## Loss Function"
   ]
  },
  {
   "cell_type": "code",
   "execution_count": 44,
   "id": "ec4647f7",
   "metadata": {},
   "outputs": [],
   "source": [
    "# Import nn.Functional :- contains many useful loss functions and several other utilities\n",
    "\n",
    "import torch.nn.functional as F"
   ]
  },
  {
   "cell_type": "code",
   "execution_count": 45,
   "id": "1a7d7906",
   "metadata": {},
   "outputs": [],
   "source": [
    "# Define Loss function\n",
    "\n",
    "loss_fn = F.mse_loss"
   ]
  },
  {
   "cell_type": "code",
   "execution_count": 46,
   "id": "9ffcdd3b",
   "metadata": {},
   "outputs": [
    {
     "name": "stdout",
     "output_type": "stream",
     "text": [
      "tensor(9453.6309, grad_fn=<MseLossBackward>)\n"
     ]
    }
   ],
   "source": [
    "loss = loss_fn(model(inputs), targets)\n",
    "print(loss)"
   ]
  },
  {
   "cell_type": "markdown",
   "id": "e8e3030d",
   "metadata": {},
   "source": [
    "# Optimizer\n",
    "\n",
    "we will use stochastic gradient descent -> optim.SGD"
   ]
  },
  {
   "cell_type": "code",
   "execution_count": 56,
   "id": "36367022",
   "metadata": {},
   "outputs": [],
   "source": [
    "# define optimiser\n",
    " \n",
    "opt = torch.optim.SGD(model.parameters(), lr=1e-5) #lr is the learning rate"
   ]
  },
  {
   "cell_type": "markdown",
   "id": "3077abb6",
   "metadata": {},
   "source": [
    "# Train the Model"
   ]
  },
  {
   "cell_type": "code",
   "execution_count": 65,
   "id": "52b3d55e",
   "metadata": {},
   "outputs": [],
   "source": [
    "# Utility function to train the Model\n",
    "\n",
    "def fit(num_epochs, model, loss_fn, opt, train_dl):\n",
    "    \n",
    "    for epoch in range(num_epochs):\n",
    "        \n",
    "        for xb, xy in train_dl:\n",
    "            \n",
    "            pred = model(xb) # Generate Predictions\n",
    "            \n",
    "            loss = loss_fn(pred, yb) # calculate loss\n",
    "            \n",
    "            loss.backward() # compute gradient\n",
    "            \n",
    "            opt.step() # update parameters using gradient\n",
    "            \n",
    "            opt.zero_grad() # reset the gradient to zero \n",
    "        \n",
    "        if (epoch+1) % 10 == 0:\n",
    "            print('Epoch [{}/{}], Loss: {:.4f}'.format(epoch+1, num_epochs, loss.item()))\n",
    "            \n",
    "            "
   ]
  },
  {
   "cell_type": "code",
   "execution_count": 66,
   "id": "f958d917",
   "metadata": {},
   "outputs": [
    {
     "name": "stdout",
     "output_type": "stream",
     "text": [
      "Epoch [10/100], Loss: 1473.9495\n",
      "Epoch [20/100], Loss: 1101.0323\n",
      "Epoch [30/100], Loss: 1247.5220\n",
      "Epoch [40/100], Loss: 1066.2527\n",
      "Epoch [50/100], Loss: 1192.7886\n",
      "Epoch [60/100], Loss: 1239.0150\n",
      "Epoch [70/100], Loss: 916.5994\n",
      "Epoch [80/100], Loss: 986.2520\n",
      "Epoch [90/100], Loss: 1190.9945\n",
      "Epoch [100/100], Loss: 1572.8744\n"
     ]
    }
   ],
   "source": [
    "fit(100, model, loss_fn, opt, train_dl)"
   ]
  },
  {
   "cell_type": "code",
   "execution_count": 67,
   "id": "af6acd5a",
   "metadata": {},
   "outputs": [],
   "source": [
    "preds = model(inputs)"
   ]
  },
  {
   "cell_type": "code",
   "execution_count": 68,
   "id": "7d7a7632",
   "metadata": {},
   "outputs": [
    {
     "data": {
      "text/plain": [
       "tensor([[ 62.2054,  75.3431],\n",
       "        [ 81.8397,  99.3478],\n",
       "        [ 75.8782,  91.9953],\n",
       "        [ 78.3076,  94.4091],\n",
       "        [ 70.4413,  85.9155],\n",
       "        [ 62.8510,  76.1146],\n",
       "        [ 82.2799,  99.9035],\n",
       "        [ 76.9230,  93.2708],\n",
       "        [ 77.6620,  93.6375],\n",
       "        [ 70.2358,  85.6997],\n",
       "        [ 62.6455,  75.8988],\n",
       "        [ 82.4854, 100.1193],\n",
       "        [ 75.4381,  91.4396],\n",
       "        [ 78.5131,  94.6249],\n",
       "        [ 69.7957,  85.1440]], grad_fn=<AddmmBackward>)"
      ]
     },
     "execution_count": 68,
     "metadata": {},
     "output_type": "execute_result"
    }
   ],
   "source": [
    "preds"
   ]
  },
  {
   "cell_type": "code",
   "execution_count": 69,
   "id": "71807c77",
   "metadata": {},
   "outputs": [
    {
     "data": {
      "text/plain": [
       "tensor([[ 56.,  70.],\n",
       "        [ 81., 101.],\n",
       "        [119., 133.],\n",
       "        [ 22.,  37.],\n",
       "        [103., 119.],\n",
       "        [ 57.,  69.],\n",
       "        [ 80., 102.],\n",
       "        [118., 132.],\n",
       "        [ 21.,  38.],\n",
       "        [104., 118.],\n",
       "        [ 57.,  69.],\n",
       "        [ 82., 100.],\n",
       "        [118., 134.],\n",
       "        [ 20.,  38.],\n",
       "        [102., 120.]])"
      ]
     },
     "execution_count": 69,
     "metadata": {},
     "output_type": "execute_result"
    }
   ],
   "source": [
    "targets"
   ]
  },
  {
   "cell_type": "markdown",
   "id": "0dbf57d3",
   "metadata": {},
   "source": [
    "Random input Batch"
   ]
  },
  {
   "cell_type": "code",
   "execution_count": 70,
   "id": "5a28b9ab",
   "metadata": {},
   "outputs": [
    {
     "data": {
      "text/plain": [
       "tensor([[63.9573, 77.4678]], grad_fn=<AddmmBackward>)"
      ]
     },
     "execution_count": 70,
     "metadata": {},
     "output_type": "execute_result"
    }
   ],
   "source": [
    "model(torch.tensor([[75, 63, 44.]])) # we'll get a batch of output"
   ]
  },
  {
   "cell_type": "code",
   "execution_count": null,
   "id": "963c3b44",
   "metadata": {},
   "outputs": [],
   "source": []
  }
 ],
 "metadata": {
  "kernelspec": {
   "display_name": "Python 3.7 (pytorch)",
   "language": "python",
   "name": "pytorch"
  },
  "language_info": {
   "codemirror_mode": {
    "name": "ipython",
    "version": 3
   },
   "file_extension": ".py",
   "mimetype": "text/x-python",
   "name": "python",
   "nbconvert_exporter": "python",
   "pygments_lexer": "ipython3",
   "version": "3.7.10"
  }
 },
 "nbformat": 4,
 "nbformat_minor": 5
}
