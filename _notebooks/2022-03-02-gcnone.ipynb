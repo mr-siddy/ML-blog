{
 "cells": [
  {
   "cell_type": "markdown",
   "id": "d9c8c014-2280-41da-8a04-ea7afb078036",
   "metadata": {},
   "source": [
    "# Node level prediction on Cora using GCN\n",
    "- toc: True\n",
    "- categorites: [Graph Machine Learning] "
   ]
  },
  {
   "cell_type": "markdown",
   "id": "f259f3ca-f1d6-4178-8c97-5e4b5f64a785",
   "metadata": {},
   "source": [
    "## Data Loading and Preprocessing"
   ]
  },
  {
   "cell_type": "code",
   "execution_count": 1,
   "id": "5b9e50ec-8a96-4b64-9501-bf8ae353bb53",
   "metadata": {},
   "outputs": [],
   "source": [
    "import numpy as np\n",
    "import torch\n",
    "import torch_geometric.datasets as datasets\n",
    "import torch_geometric.data as data\n",
    "import torch_geometric.transforms as transforms\n",
    "import torch_geometric.loader as loader\n",
    "from torch_geometric.datasets import Planetoid\n",
    "import networkx as nx\n",
    "from torch_geometric.utils.convert import to_networkx\n",
    "import torch.nn.functional as F\n",
    "from torch_geometric.nn import GCNConv"
   ]
  },
  {
   "cell_type": "code",
   "execution_count": 2,
   "id": "ed8b44c3-b21c-4905-96e3-2d49b2f4016a",
   "metadata": {},
   "outputs": [],
   "source": [
    "name = 'Cora'\n",
    "transform = transforms.Compose([\n",
    "    transforms.RandomNodeSplit('train_rest', num_val=500, num_test=500),\n",
    "    transforms.TargetIndegree()\n",
    "])\n",
    "cora = datasets.Planetoid('./data', name, pre_transform=transforms.NormalizeFeatures(), transform=transform)\n",
    "# pre_transform applied only when the dataset is downloading\n",
    "# once dataeset is downloaded the transforms will be applies \n",
    "# if dataset is already downloaded the running cell again will retrive dataset from the local it self"
   ]
  },
  {
   "cell_type": "code",
   "execution_count": 3,
   "id": "1f7d7fff-e51d-4f7c-a8e5-c69496b6181b",
   "metadata": {},
   "outputs": [
    {
     "name": "stdout",
     "output_type": "stream",
     "text": [
      "Cora info:\n",
      "# of graphs: 1\n",
      "# Classes {graphs} 7\n",
      "# Edge features 1\n",
      "# Node features 1433\n"
     ]
    }
   ],
   "source": [
    "print(\"Cora info:\")\n",
    "print(\"# of graphs:\", len(cora))\n",
    "print(\"# Classes {graphs}\", cora.num_classes)\n",
    "print(\"# Edge features\", cora.num_edge_features)\n",
    "print(\"# Node features\", cora.num_node_features)"
   ]
  },
  {
   "cell_type": "code",
   "execution_count": 4,
   "id": "7ef366bb-0413-47a5-ac5e-31730af43cad",
   "metadata": {},
   "outputs": [
    {
     "name": "stdout",
     "output_type": "stream",
     "text": [
      "Number of nodes:  2708\n",
      "Number of edges:  10556\n",
      "Is directed:  True\n"
     ]
    }
   ],
   "source": [
    "first = cora[0]\n",
    "print(\"Number of nodes: \", first.num_nodes)\n",
    "print(\"Number of edges: \", first.num_edges)\n",
    "print(\"Is directed: \", first.is_directed())"
   ]
  },
  {
   "cell_type": "code",
   "execution_count": 5,
   "id": "5a7bfec7-52fb-4bf5-bd2e-623d40f7df80",
   "metadata": {},
   "outputs": [
    {
     "name": "stdout",
     "output_type": "stream",
     "text": [
      "Shape of sample nodes:  torch.Size([5, 1433])\n"
     ]
    }
   ],
   "source": [
    "print(\"Shape of sample nodes: \", first.x[:5].shape)"
   ]
  },
  {
   "cell_type": "code",
   "execution_count": 6,
   "id": "c09836bd-0d3b-4ed4-a891-3e335f761d20",
   "metadata": {},
   "outputs": [
    {
     "name": "stdout",
     "output_type": "stream",
     "text": [
      "# of nodes to train on:  1708\n",
      "# of nodes to test on:  500\n",
      "# of nodes to validate on:  500\n"
     ]
    }
   ],
   "source": [
    "print(\"# of nodes to train on: \", first.train_mask.sum().item())\n",
    "\n",
    "print(\"# of nodes to test on: \", first.test_mask.sum().item())\n",
    "\n",
    "print(\"# of nodes to validate on: \", first.val_mask.sum().item())"
   ]
  },
  {
   "cell_type": "code",
   "execution_count": 7,
   "id": "6e3d0964-0e30-4f3d-af65-4d90bb911bb8",
   "metadata": {},
   "outputs": [],
   "source": [
    "device = torch.device('cuda' if torch.cuda.is_available() else 'cpu')"
   ]
  },
  {
   "cell_type": "markdown",
   "id": "afa0ba20-7ff1-4070-a07a-a0eb6caccdbe",
   "metadata": {},
   "source": [
    "## GCN model preparation"
   ]
  },
  {
   "cell_type": "code",
   "execution_count": 8,
   "id": "a4f1c6ee-bf21-4ae6-aa3b-2b4c6a27c90e",
   "metadata": {},
   "outputs": [
    {
     "data": {
      "text/plain": [
       "device(type='cuda')"
      ]
     },
     "execution_count": 8,
     "metadata": {},
     "output_type": "execute_result"
    }
   ],
   "source": [
    "device"
   ]
  },
  {
   "cell_type": "code",
   "execution_count": 9,
   "id": "3599deb5-e6c8-425e-8b65-aa39ad301cbd",
   "metadata": {},
   "outputs": [],
   "source": [
    "data = cora[0].to(device)"
   ]
  },
  {
   "cell_type": "code",
   "execution_count": 10,
   "id": "8d3e8baa-6dac-49ea-8534-acb7fa5112d9",
   "metadata": {},
   "outputs": [
    {
     "name": "stdout",
     "output_type": "stream",
     "text": [
      "X shape:  torch.Size([2708, 1433])\n",
      "Edge shape:  torch.Size([2, 10556])\n",
      "Y shape:  torch.Size([2708])\n"
     ]
    }
   ],
   "source": [
    "print(\"X shape: \", data.x.shape)\n",
    "print(\"Edge shape: \", data.edge_index.shape)\n",
    "print(\"Y shape: \", data.y.shape)"
   ]
  },
  {
   "cell_type": "code",
   "execution_count": 11,
   "id": "bdd2c136-b610-4d6e-b4f1-8a5b487ca477",
   "metadata": {},
   "outputs": [],
   "source": [
    "class GCN(torch.nn.Module):\n",
    "    def __init__(self):\n",
    "        super().__init__()\n",
    "        \"\"\" GCNConv layers \"\"\"\n",
    "        self.conv1 = GCNConv(data.num_features, 16)\n",
    "        self.conv2 = GCNConv(16, cora.num_classes)\n",
    "\n",
    "    def forward(self, data):\n",
    "        x, edge_index = data.x, data.edge_index\n",
    "        x = self.conv1(x, edge_index)\n",
    "        x = F.relu(x)\n",
    "        x = F.dropout(x, training=self.training)\n",
    "        x = self.conv2(x, edge_index)\n",
    "\n",
    "        return F.log_softmax(x, dim=1)"
   ]
  },
  {
   "cell_type": "code",
   "execution_count": 12,
   "id": "a810acf0-3142-4ad5-9044-ce980516d412",
   "metadata": {},
   "outputs": [],
   "source": [
    "model = GCN().to(device)\n",
    "optimizer = torch.optim.Adam(model.parameters(), lr=0.01, weight_decay=5e-4)"
   ]
  },
  {
   "cell_type": "code",
   "execution_count": 13,
   "id": "fa38fc49-fcb9-411e-9c3b-5660a6d01348",
   "metadata": {},
   "outputs": [],
   "source": [
    "def compute_accuracy(pred_y, y):\n",
    "    return (pred_y == y).sum()"
   ]
  },
  {
   "cell_type": "code",
   "execution_count": 17,
   "id": "e6524a77-9ff0-4d7c-acfb-cdaca10b2730",
   "metadata": {},
   "outputs": [
    {
     "name": "stdout",
     "output_type": "stream",
     "text": [
      "Epoch: 10, Loss: 0.7428, Training Acc: 0.8337\n",
      "Epoch: 20, Loss: 0.7433, Training Acc: 0.8144\n",
      "Epoch: 30, Loss: 0.7336, Training Acc: 0.8203\n",
      "Epoch: 40, Loss: 0.7138, Training Acc: 0.8279\n",
      "Epoch: 50, Loss: 0.6708, Training Acc: 0.8495\n",
      "Epoch: 60, Loss: 0.6556, Training Acc: 0.8472\n",
      "Epoch: 70, Loss: 0.6460, Training Acc: 0.8413\n",
      "Epoch: 80, Loss: 0.6598, Training Acc: 0.8372\n",
      "Epoch: 90, Loss: 0.6431, Training Acc: 0.8454\n",
      "Epoch: 100, Loss: 0.6235, Training Acc: 0.8513\n",
      "Epoch: 110, Loss: 0.6280, Training Acc: 0.8525\n",
      "Epoch: 120, Loss: 0.6283, Training Acc: 0.8525\n",
      "Epoch: 130, Loss: 0.5984, Training Acc: 0.8595\n",
      "Epoch: 140, Loss: 0.6113, Training Acc: 0.8525\n",
      "Epoch: 150, Loss: 0.5999, Training Acc: 0.8671\n",
      "Epoch: 160, Loss: 0.5997, Training Acc: 0.8484\n",
      "Epoch: 170, Loss: 0.5856, Training Acc: 0.8612\n",
      "Epoch: 180, Loss: 0.5930, Training Acc: 0.8642\n",
      "Epoch: 190, Loss: 0.5878, Training Acc: 0.8519\n",
      "Epoch: 200, Loss: 0.5753, Training Acc: 0.8642\n",
      "Epoch: 210, Loss: 0.5832, Training Acc: 0.8519\n",
      "Epoch: 220, Loss: 0.5670, Training Acc: 0.8642\n",
      "Epoch: 230, Loss: 0.5318, Training Acc: 0.8706\n",
      "Epoch: 240, Loss: 0.5457, Training Acc: 0.8718\n",
      "Epoch: 250, Loss: 0.5411, Training Acc: 0.8753\n",
      "Epoch: 260, Loss: 0.5303, Training Acc: 0.8665\n",
      "Epoch: 270, Loss: 0.5364, Training Acc: 0.8712\n",
      "Epoch: 280, Loss: 0.5136, Training Acc: 0.8852\n",
      "Epoch: 290, Loss: 0.5295, Training Acc: 0.8730\n",
      "Epoch: 300, Loss: 0.5365, Training Acc: 0.8747\n",
      "Epoch: 310, Loss: 0.5151, Training Acc: 0.8624\n",
      "Epoch: 320, Loss: 0.5120, Training Acc: 0.8730\n",
      "Epoch: 330, Loss: 0.5110, Training Acc: 0.8653\n",
      "Epoch: 340, Loss: 0.5093, Training Acc: 0.8683\n",
      "Epoch: 350, Loss: 0.5064, Training Acc: 0.8759\n",
      "Epoch: 360, Loss: 0.5147, Training Acc: 0.8730\n",
      "Epoch: 370, Loss: 0.5154, Training Acc: 0.8730\n",
      "Epoch: 380, Loss: 0.5214, Training Acc: 0.8712\n",
      "Epoch: 390, Loss: 0.5293, Training Acc: 0.8589\n",
      "Epoch: 400, Loss: 0.4908, Training Acc: 0.8835\n"
     ]
    }
   ],
   "source": [
    "model.train()\n",
    "losses = []\n",
    "accuracies = []\n",
    "for epoch in range(400):\n",
    "    optimizer.zero_grad()\n",
    "    out = model(data)\n",
    "\n",
    "    loss = F.nll_loss(out[data.train_mask], data.y[data.train_mask])\n",
    "    correct = compute_accuracy(out.argmax(dim=1)[data.train_mask], data.y[data.train_mask])\n",
    "    acc = int(correct) / int(data.train_mask.sum())\n",
    "    losses.append(loss.item())\n",
    "    accuracies.append(acc)\n",
    "\n",
    "    loss.backward()\n",
    "    optimizer.step()\n",
    "    if (epoch+1) % 10 == 0:\n",
    "        print('Epoch: {}, Loss: {:.4f}, Training Acc: {:.4f}'.format(epoch+1, loss.item(), acc))"
   ]
  },
  {
   "cell_type": "markdown",
   "id": "49dcfe49-56cd-4d57-834a-8becaaae8299",
   "metadata": {},
   "source": [
    "## Training Results"
   ]
  },
  {
   "cell_type": "code",
   "execution_count": 18,
   "id": "2bcd231c-1826-4c87-93a8-392167b6dc38",
   "metadata": {},
   "outputs": [
    {
     "data": {
      "image/png": "[encoded data removed]",
      "text/plain": [
       "<Figure size 640x480 with 1 Axes>"
      ]
     },
     "metadata": {},
     "output_type": "display_data"
    }
   ],
   "source": [
    "import matplotlib.pyplot as plt\n",
    "plt.plot(losses)\n",
    "plt.plot(accuracies)\n",
    "plt.legend(['Loss', 'Accuracy'])\n",
    "plt.show()"
   ]
  },
  {
   "cell_type": "code",
   "execution_count": 19,
   "id": "1924c22f-deab-43f6-9499-1178e7f29ddc",
   "metadata": {},
   "outputs": [
    {
     "name": "stdout",
     "output_type": "stream",
     "text": [
      "Accuracy: 0.8900\n"
     ]
    }
   ],
   "source": [
    "model.eval()\n",
    "pred = model(data).argmax(dim=1)\n",
    "correct = compute_accuracy(pred[data.test_mask], data.y[data.test_mask])\n",
    "acc = int(correct) / int(data.test_mask.sum())\n",
    "print(f'Accuracy: {acc:.4f}')"
   ]
  },
  {
   "cell_type": "markdown",
   "id": "3854315c-d742-49ea-bc9e-85b28c39bb0f",
   "metadata": {},
   "source": [
    "\n"
   ]
  },
  {
   "cell_type": "code",
   "execution_count": null,
   "id": "16a58e79-71ce-43cd-a998-dbebe04d6bc4",
   "metadata": {},
   "outputs": [],
   "source": []
  }
 ],
 "metadata": {
  "kernelspec": {
   "display_name": "Python 3.7 (pytorch)",
   "language": "python",
   "name": "pytorch"
  },
  "language_info": {
   "codemirror_mode": {
    "name": "ipython",
    "version": 3
   },
   "file_extension": ".py",
   "mimetype": "text/x-python",
   "name": "python",
   "nbconvert_exporter": "python",
   "pygments_lexer": "ipython3",
   "version": "3.8.10"
  }
 },
 "nbformat": 4,
 "nbformat_minor": 5
}
